{
  "nbformat": 4,
  "nbformat_minor": 0,
  "metadata": {
    "colab": {
      "provenance": []
    },
    "kernelspec": {
      "name": "python3",
      "display_name": "Python 3"
    },
    "language_info": {
      "name": "python"
    }
  },
  "cells": [
    {
      "cell_type": "code",
      "execution_count": null,
      "metadata": {
        "id": "O7qez2AMSoEV"
      },
      "outputs": [],
      "source": [
        "import pandas as pd\n",
        "import seaborn as sns\n",
        "import matplotlib.pyplot as plt"
      ]
    },
    {
      "cell_type": "code",
      "source": [
        "imoveis_df = pd.read_csv('aluguel.csv', sep = \";\")"
      ],
      "metadata": {
        "id": "_f7cxrIwSw07"
      },
      "execution_count": null,
      "outputs": []
    },
    {
      "cell_type": "code",
      "source": [
        "imoveis_df.head()"
      ],
      "metadata": {
        "colab": {
          "base_uri": "https://localhost:8080/",
          "height": 206
        },
        "id": "ScE01xcZAlTY",
        "outputId": "39851408-d226-404d-be41-f83e80c12e76"
      },
      "execution_count": null,
      "outputs": [
        {
          "output_type": "execute_result",
          "data": {
            "text/plain": [
              "                      Tipo           Bairro  Quartos  Vagas  Suites  Area  \\\n",
              "0                Quitinete       Copacabana        1      0       0    40   \n",
              "1                     Casa  Jardim Botânico        2      0       1   100   \n",
              "2  Conjunto Comercial/Sala  Barra da Tijuca        0      4       0   150   \n",
              "3              Apartamento           Centro        1      0       0    15   \n",
              "4              Apartamento     Higienópolis        1      0       0    48   \n",
              "\n",
              "    Valor  Condominio    IPTU  \n",
              "0  1700.0       500.0    60.0  \n",
              "1  7000.0         NaN     NaN  \n",
              "2  5200.0      4020.0  1111.0  \n",
              "3   800.0       390.0    20.0  \n",
              "4   800.0       230.0     NaN  "
            ],
            "text/html": [
              "\n",
              "  <div id=\"df-dee31f92-f4c4-4b03-a5cf-e4defa52878c\">\n",
              "    <div class=\"colab-df-container\">\n",
              "      <div>\n",
              "<style scoped>\n",
              "    .dataframe tbody tr th:only-of-type {\n",
              "        vertical-align: middle;\n",
              "    }\n",
              "\n",
              "    .dataframe tbody tr th {\n",
              "        vertical-align: top;\n",
              "    }\n",
              "\n",
              "    .dataframe thead th {\n",
              "        text-align: right;\n",
              "    }\n",
              "</style>\n",
              "<table border=\"1\" class=\"dataframe\">\n",
              "  <thead>\n",
              "    <tr style=\"text-align: right;\">\n",
              "      <th></th>\n",
              "      <th>Tipo</th>\n",
              "      <th>Bairro</th>\n",
              "      <th>Quartos</th>\n",
              "      <th>Vagas</th>\n",
              "      <th>Suites</th>\n",
              "      <th>Area</th>\n",
              "      <th>Valor</th>\n",
              "      <th>Condominio</th>\n",
              "      <th>IPTU</th>\n",
              "    </tr>\n",
              "  </thead>\n",
              "  <tbody>\n",
              "    <tr>\n",
              "      <th>0</th>\n",
              "      <td>Quitinete</td>\n",
              "      <td>Copacabana</td>\n",
              "      <td>1</td>\n",
              "      <td>0</td>\n",
              "      <td>0</td>\n",
              "      <td>40</td>\n",
              "      <td>1700.0</td>\n",
              "      <td>500.0</td>\n",
              "      <td>60.0</td>\n",
              "    </tr>\n",
              "    <tr>\n",
              "      <th>1</th>\n",
              "      <td>Casa</td>\n",
              "      <td>Jardim Botânico</td>\n",
              "      <td>2</td>\n",
              "      <td>0</td>\n",
              "      <td>1</td>\n",
              "      <td>100</td>\n",
              "      <td>7000.0</td>\n",
              "      <td>NaN</td>\n",
              "      <td>NaN</td>\n",
              "    </tr>\n",
              "    <tr>\n",
              "      <th>2</th>\n",
              "      <td>Conjunto Comercial/Sala</td>\n",
              "      <td>Barra da Tijuca</td>\n",
              "      <td>0</td>\n",
              "      <td>4</td>\n",
              "      <td>0</td>\n",
              "      <td>150</td>\n",
              "      <td>5200.0</td>\n",
              "      <td>4020.0</td>\n",
              "      <td>1111.0</td>\n",
              "    </tr>\n",
              "    <tr>\n",
              "      <th>3</th>\n",
              "      <td>Apartamento</td>\n",
              "      <td>Centro</td>\n",
              "      <td>1</td>\n",
              "      <td>0</td>\n",
              "      <td>0</td>\n",
              "      <td>15</td>\n",
              "      <td>800.0</td>\n",
              "      <td>390.0</td>\n",
              "      <td>20.0</td>\n",
              "    </tr>\n",
              "    <tr>\n",
              "      <th>4</th>\n",
              "      <td>Apartamento</td>\n",
              "      <td>Higienópolis</td>\n",
              "      <td>1</td>\n",
              "      <td>0</td>\n",
              "      <td>0</td>\n",
              "      <td>48</td>\n",
              "      <td>800.0</td>\n",
              "      <td>230.0</td>\n",
              "      <td>NaN</td>\n",
              "    </tr>\n",
              "  </tbody>\n",
              "</table>\n",
              "</div>\n",
              "      <button class=\"colab-df-convert\" onclick=\"convertToInteractive('df-dee31f92-f4c4-4b03-a5cf-e4defa52878c')\"\n",
              "              title=\"Convert this dataframe to an interactive table.\"\n",
              "              style=\"display:none;\">\n",
              "        \n",
              "  <svg xmlns=\"http://www.w3.org/2000/svg\" height=\"24px\"viewBox=\"0 0 24 24\"\n",
              "       width=\"24px\">\n",
              "    <path d=\"M0 0h24v24H0V0z\" fill=\"none\"/>\n",
              "    <path d=\"M18.56 5.44l.94 2.06.94-2.06 2.06-.94-2.06-.94-.94-2.06-.94 2.06-2.06.94zm-11 1L8.5 8.5l.94-2.06 2.06-.94-2.06-.94L8.5 2.5l-.94 2.06-2.06.94zm10 10l.94 2.06.94-2.06 2.06-.94-2.06-.94-.94-2.06-.94 2.06-2.06.94z\"/><path d=\"M17.41 7.96l-1.37-1.37c-.4-.4-.92-.59-1.43-.59-.52 0-1.04.2-1.43.59L10.3 9.45l-7.72 7.72c-.78.78-.78 2.05 0 2.83L4 21.41c.39.39.9.59 1.41.59.51 0 1.02-.2 1.41-.59l7.78-7.78 2.81-2.81c.8-.78.8-2.07 0-2.86zM5.41 20L4 18.59l7.72-7.72 1.47 1.35L5.41 20z\"/>\n",
              "  </svg>\n",
              "      </button>\n",
              "      \n",
              "  <style>\n",
              "    .colab-df-container {\n",
              "      display:flex;\n",
              "      flex-wrap:wrap;\n",
              "      gap: 12px;\n",
              "    }\n",
              "\n",
              "    .colab-df-convert {\n",
              "      background-color: #E8F0FE;\n",
              "      border: none;\n",
              "      border-radius: 50%;\n",
              "      cursor: pointer;\n",
              "      display: none;\n",
              "      fill: #1967D2;\n",
              "      height: 32px;\n",
              "      padding: 0 0 0 0;\n",
              "      width: 32px;\n",
              "    }\n",
              "\n",
              "    .colab-df-convert:hover {\n",
              "      background-color: #E2EBFA;\n",
              "      box-shadow: 0px 1px 2px rgba(60, 64, 67, 0.3), 0px 1px 3px 1px rgba(60, 64, 67, 0.15);\n",
              "      fill: #174EA6;\n",
              "    }\n",
              "\n",
              "    [theme=dark] .colab-df-convert {\n",
              "      background-color: #3B4455;\n",
              "      fill: #D2E3FC;\n",
              "    }\n",
              "\n",
              "    [theme=dark] .colab-df-convert:hover {\n",
              "      background-color: #434B5C;\n",
              "      box-shadow: 0px 1px 3px 1px rgba(0, 0, 0, 0.15);\n",
              "      filter: drop-shadow(0px 1px 2px rgba(0, 0, 0, 0.3));\n",
              "      fill: #FFFFFF;\n",
              "    }\n",
              "  </style>\n",
              "\n",
              "      <script>\n",
              "        const buttonEl =\n",
              "          document.querySelector('#df-dee31f92-f4c4-4b03-a5cf-e4defa52878c button.colab-df-convert');\n",
              "        buttonEl.style.display =\n",
              "          google.colab.kernel.accessAllowed ? 'block' : 'none';\n",
              "\n",
              "        async function convertToInteractive(key) {\n",
              "          const element = document.querySelector('#df-dee31f92-f4c4-4b03-a5cf-e4defa52878c');\n",
              "          const dataTable =\n",
              "            await google.colab.kernel.invokeFunction('convertToInteractive',\n",
              "                                                     [key], {});\n",
              "          if (!dataTable) return;\n",
              "\n",
              "          const docLinkHtml = 'Like what you see? Visit the ' +\n",
              "            '<a target=\"_blank\" href=https://colab.research.google.com/notebooks/data_table.ipynb>data table notebook</a>'\n",
              "            + ' to learn more about interactive tables.';\n",
              "          element.innerHTML = '';\n",
              "          dataTable['output_type'] = 'display_data';\n",
              "          await google.colab.output.renderOutput(dataTable, element);\n",
              "          const docLink = document.createElement('div');\n",
              "          docLink.innerHTML = docLinkHtml;\n",
              "          element.appendChild(docLink);\n",
              "        }\n",
              "      </script>\n",
              "    </div>\n",
              "  </div>\n",
              "  "
            ]
          },
          "metadata": {},
          "execution_count": 3
        }
      ]
    },
    {
      "cell_type": "code",
      "source": [
        "# número de linhas: 9\n",
        "print(\"Número de linhas: \", len(imoveis_df.axes[1]))\n",
        "  \n",
        "# número de colunas: 32960\n",
        "print(\"Número de colunas: \", len(imoveis_df.axes[0]))\n",
        "print(\"Número de colunas (outro jeito): \", imoveis_df[imoveis_df.columns[0]].count())"
      ],
      "metadata": {
        "colab": {
          "base_uri": "https://localhost:8080/"
        },
        "id": "7RYTDf6pBSr4",
        "outputId": "bf2206a9-c206-4f26-9365-a3e276df3ad6"
      },
      "execution_count": null,
      "outputs": [
        {
          "output_type": "stream",
          "name": "stdout",
          "text": [
            "Número de linhas:  9\n",
            "Número de colunas:  32960\n",
            "Número de colunas (outro jeito):  32960\n"
          ]
        }
      ]
    },
    {
      "cell_type": "code",
      "source": [
        "# tipos de cada imóvel:\n",
        "\n",
        "tipos = imoveis_df[\"Tipo\"]\n",
        "\n",
        "tipos.value_counts()"
      ],
      "metadata": {
        "colab": {
          "base_uri": "https://localhost:8080/"
        },
        "id": "eLe0PDh7C5cc",
        "outputId": "912111bb-6fd4-4451-80cc-1d6edb807049"
      },
      "execution_count": null,
      "outputs": [
        {
          "output_type": "execute_result",
          "data": {
            "text/plain": [
              "Apartamento                    19532\n",
              "Conjunto Comercial/Sala         6815\n",
              "Loja/Salão                      1426\n",
              "Casa de Condomínio               996\n",
              "Casa                             967\n",
              "Quitinete                        836\n",
              "Galpão/Depósito/Armazém          623\n",
              "Flat                             476\n",
              "Prédio Inteiro                   301\n",
              "Casa Comercial                   265\n",
              "Casa de Vila                     249\n",
              "Loja Shopping/ Ct Comercial      247\n",
              "Box/Garagem                       82\n",
              "Terreno Padrão                    70\n",
              "Loft                              51\n",
              "Sítio                             10\n",
              "Loteamento/Condomínio              5\n",
              "Studio                             4\n",
              "Hotel                              2\n",
              "Chácara                            1\n",
              "Pousada/Chalé                      1\n",
              "Indústria                          1\n",
              "Name: Tipo, dtype: int64"
            ]
          },
          "metadata": {},
          "execution_count": 5
        }
      ]
    },
    {
      "cell_type": "code",
      "source": [
        "len(imoveis_df['Bairro'].unique())"
      ],
      "metadata": {
        "colab": {
          "base_uri": "https://localhost:8080/"
        },
        "id": "s5W8i9wAr13r",
        "outputId": "ce49c525-0b96-4e5b-84a8-d16bbc5c6388"
      },
      "execution_count": null,
      "outputs": [
        {
          "output_type": "execute_result",
          "data": {
            "text/plain": [
              "162"
            ]
          },
          "metadata": {},
          "execution_count": 6
        }
      ]
    },
    {
      "cell_type": "code",
      "source": [
        "# quantidade de bairros:\n",
        "\n",
        "bairros = imoveis_df[\"Bairro\"]\n",
        "\n",
        "bairros.value_counts() \n",
        "\n",
        "# bairros.value_counts() / len(imoveis_df) * 100"
      ],
      "metadata": {
        "colab": {
          "base_uri": "https://localhost:8080/"
        },
        "id": "5yfFTug2Ey5X",
        "outputId": "46f74860-69ae-4ee4-c11e-1a2aaec88eb1"
      },
      "execution_count": null,
      "outputs": [
        {
          "output_type": "execute_result",
          "data": {
            "text/plain": [
              "Barra da Tijuca             6259\n",
              "Centro                      3258\n",
              "Copacabana                  3186\n",
              "Ipanema                     2233\n",
              "Recreio dos Bandeirantes    2127\n",
              "                            ... \n",
              "Cachamorra                     1\n",
              "Vasco da Gama                  1\n",
              "Cidade de Deus                 1\n",
              "Itaguaí                        1\n",
              "Sepetiba                       1\n",
              "Name: Bairro, Length: 162, dtype: int64"
            ]
          },
          "metadata": {},
          "execution_count": 7
        }
      ]
    },
    {
      "cell_type": "code",
      "source": [
        "imoveis_df.describe()"
      ],
      "metadata": {
        "colab": {
          "base_uri": "https://localhost:8080/",
          "height": 300
        },
        "id": "n4cw5xVXGHHb",
        "outputId": "8d8801d3-381a-442c-dc34-aa8a62aa5036"
      },
      "execution_count": null,
      "outputs": [
        {
          "output_type": "execute_result",
          "data": {
            "text/plain": [
              "            Quartos         Vagas        Suites          Area         Valor  \\\n",
              "count  32960.000000  32960.000000  32960.000000  32960.000000  3.294300e+04   \n",
              "mean       1.771390      1.749059      0.665777    231.901547  1.295266e+04   \n",
              "std        1.717869     20.380402      1.176525   1135.254152  6.675220e+05   \n",
              "min        0.000000      0.000000      0.000000      0.000000  7.500000e+01   \n",
              "25%        0.000000      0.000000      0.000000     55.000000  1.500000e+03   \n",
              "50%        2.000000      1.000000      0.000000     87.000000  2.800000e+03   \n",
              "75%        3.000000      2.000000      1.000000    170.000000  6.500000e+03   \n",
              "max      100.000000   1966.000000     70.000000  90000.000000  1.200000e+08   \n",
              "\n",
              "         Condominio          IPTU  \n",
              "count  2.886700e+04  2.272300e+04  \n",
              "mean   2.388062e+03  2.364410e+03  \n",
              "std    3.918496e+04  1.795641e+05  \n",
              "min    1.000000e+00  1.000000e+00  \n",
              "25%    5.900000e+02  1.100000e+02  \n",
              "50%    9.900000e+02  2.500000e+02  \n",
              "75%    1.800000e+03  6.970000e+02  \n",
              "max    6.552570e+06  2.705307e+07  "
            ],
            "text/html": [
              "\n",
              "  <div id=\"df-69837807-e5de-4738-87f8-40ac712e77c2\">\n",
              "    <div class=\"colab-df-container\">\n",
              "      <div>\n",
              "<style scoped>\n",
              "    .dataframe tbody tr th:only-of-type {\n",
              "        vertical-align: middle;\n",
              "    }\n",
              "\n",
              "    .dataframe tbody tr th {\n",
              "        vertical-align: top;\n",
              "    }\n",
              "\n",
              "    .dataframe thead th {\n",
              "        text-align: right;\n",
              "    }\n",
              "</style>\n",
              "<table border=\"1\" class=\"dataframe\">\n",
              "  <thead>\n",
              "    <tr style=\"text-align: right;\">\n",
              "      <th></th>\n",
              "      <th>Quartos</th>\n",
              "      <th>Vagas</th>\n",
              "      <th>Suites</th>\n",
              "      <th>Area</th>\n",
              "      <th>Valor</th>\n",
              "      <th>Condominio</th>\n",
              "      <th>IPTU</th>\n",
              "    </tr>\n",
              "  </thead>\n",
              "  <tbody>\n",
              "    <tr>\n",
              "      <th>count</th>\n",
              "      <td>32960.000000</td>\n",
              "      <td>32960.000000</td>\n",
              "      <td>32960.000000</td>\n",
              "      <td>32960.000000</td>\n",
              "      <td>3.294300e+04</td>\n",
              "      <td>2.886700e+04</td>\n",
              "      <td>2.272300e+04</td>\n",
              "    </tr>\n",
              "    <tr>\n",
              "      <th>mean</th>\n",
              "      <td>1.771390</td>\n",
              "      <td>1.749059</td>\n",
              "      <td>0.665777</td>\n",
              "      <td>231.901547</td>\n",
              "      <td>1.295266e+04</td>\n",
              "      <td>2.388062e+03</td>\n",
              "      <td>2.364410e+03</td>\n",
              "    </tr>\n",
              "    <tr>\n",
              "      <th>std</th>\n",
              "      <td>1.717869</td>\n",
              "      <td>20.380402</td>\n",
              "      <td>1.176525</td>\n",
              "      <td>1135.254152</td>\n",
              "      <td>6.675220e+05</td>\n",
              "      <td>3.918496e+04</td>\n",
              "      <td>1.795641e+05</td>\n",
              "    </tr>\n",
              "    <tr>\n",
              "      <th>min</th>\n",
              "      <td>0.000000</td>\n",
              "      <td>0.000000</td>\n",
              "      <td>0.000000</td>\n",
              "      <td>0.000000</td>\n",
              "      <td>7.500000e+01</td>\n",
              "      <td>1.000000e+00</td>\n",
              "      <td>1.000000e+00</td>\n",
              "    </tr>\n",
              "    <tr>\n",
              "      <th>25%</th>\n",
              "      <td>0.000000</td>\n",
              "      <td>0.000000</td>\n",
              "      <td>0.000000</td>\n",
              "      <td>55.000000</td>\n",
              "      <td>1.500000e+03</td>\n",
              "      <td>5.900000e+02</td>\n",
              "      <td>1.100000e+02</td>\n",
              "    </tr>\n",
              "    <tr>\n",
              "      <th>50%</th>\n",
              "      <td>2.000000</td>\n",
              "      <td>1.000000</td>\n",
              "      <td>0.000000</td>\n",
              "      <td>87.000000</td>\n",
              "      <td>2.800000e+03</td>\n",
              "      <td>9.900000e+02</td>\n",
              "      <td>2.500000e+02</td>\n",
              "    </tr>\n",
              "    <tr>\n",
              "      <th>75%</th>\n",
              "      <td>3.000000</td>\n",
              "      <td>2.000000</td>\n",
              "      <td>1.000000</td>\n",
              "      <td>170.000000</td>\n",
              "      <td>6.500000e+03</td>\n",
              "      <td>1.800000e+03</td>\n",
              "      <td>6.970000e+02</td>\n",
              "    </tr>\n",
              "    <tr>\n",
              "      <th>max</th>\n",
              "      <td>100.000000</td>\n",
              "      <td>1966.000000</td>\n",
              "      <td>70.000000</td>\n",
              "      <td>90000.000000</td>\n",
              "      <td>1.200000e+08</td>\n",
              "      <td>6.552570e+06</td>\n",
              "      <td>2.705307e+07</td>\n",
              "    </tr>\n",
              "  </tbody>\n",
              "</table>\n",
              "</div>\n",
              "      <button class=\"colab-df-convert\" onclick=\"convertToInteractive('df-69837807-e5de-4738-87f8-40ac712e77c2')\"\n",
              "              title=\"Convert this dataframe to an interactive table.\"\n",
              "              style=\"display:none;\">\n",
              "        \n",
              "  <svg xmlns=\"http://www.w3.org/2000/svg\" height=\"24px\"viewBox=\"0 0 24 24\"\n",
              "       width=\"24px\">\n",
              "    <path d=\"M0 0h24v24H0V0z\" fill=\"none\"/>\n",
              "    <path d=\"M18.56 5.44l.94 2.06.94-2.06 2.06-.94-2.06-.94-.94-2.06-.94 2.06-2.06.94zm-11 1L8.5 8.5l.94-2.06 2.06-.94-2.06-.94L8.5 2.5l-.94 2.06-2.06.94zm10 10l.94 2.06.94-2.06 2.06-.94-2.06-.94-.94-2.06-.94 2.06-2.06.94z\"/><path d=\"M17.41 7.96l-1.37-1.37c-.4-.4-.92-.59-1.43-.59-.52 0-1.04.2-1.43.59L10.3 9.45l-7.72 7.72c-.78.78-.78 2.05 0 2.83L4 21.41c.39.39.9.59 1.41.59.51 0 1.02-.2 1.41-.59l7.78-7.78 2.81-2.81c.8-.78.8-2.07 0-2.86zM5.41 20L4 18.59l7.72-7.72 1.47 1.35L5.41 20z\"/>\n",
              "  </svg>\n",
              "      </button>\n",
              "      \n",
              "  <style>\n",
              "    .colab-df-container {\n",
              "      display:flex;\n",
              "      flex-wrap:wrap;\n",
              "      gap: 12px;\n",
              "    }\n",
              "\n",
              "    .colab-df-convert {\n",
              "      background-color: #E8F0FE;\n",
              "      border: none;\n",
              "      border-radius: 50%;\n",
              "      cursor: pointer;\n",
              "      display: none;\n",
              "      fill: #1967D2;\n",
              "      height: 32px;\n",
              "      padding: 0 0 0 0;\n",
              "      width: 32px;\n",
              "    }\n",
              "\n",
              "    .colab-df-convert:hover {\n",
              "      background-color: #E2EBFA;\n",
              "      box-shadow: 0px 1px 2px rgba(60, 64, 67, 0.3), 0px 1px 3px 1px rgba(60, 64, 67, 0.15);\n",
              "      fill: #174EA6;\n",
              "    }\n",
              "\n",
              "    [theme=dark] .colab-df-convert {\n",
              "      background-color: #3B4455;\n",
              "      fill: #D2E3FC;\n",
              "    }\n",
              "\n",
              "    [theme=dark] .colab-df-convert:hover {\n",
              "      background-color: #434B5C;\n",
              "      box-shadow: 0px 1px 3px 1px rgba(0, 0, 0, 0.15);\n",
              "      filter: drop-shadow(0px 1px 2px rgba(0, 0, 0, 0.3));\n",
              "      fill: #FFFFFF;\n",
              "    }\n",
              "  </style>\n",
              "\n",
              "      <script>\n",
              "        const buttonEl =\n",
              "          document.querySelector('#df-69837807-e5de-4738-87f8-40ac712e77c2 button.colab-df-convert');\n",
              "        buttonEl.style.display =\n",
              "          google.colab.kernel.accessAllowed ? 'block' : 'none';\n",
              "\n",
              "        async function convertToInteractive(key) {\n",
              "          const element = document.querySelector('#df-69837807-e5de-4738-87f8-40ac712e77c2');\n",
              "          const dataTable =\n",
              "            await google.colab.kernel.invokeFunction('convertToInteractive',\n",
              "                                                     [key], {});\n",
              "          if (!dataTable) return;\n",
              "\n",
              "          const docLinkHtml = 'Like what you see? Visit the ' +\n",
              "            '<a target=\"_blank\" href=https://colab.research.google.com/notebooks/data_table.ipynb>data table notebook</a>'\n",
              "            + ' to learn more about interactive tables.';\n",
              "          element.innerHTML = '';\n",
              "          dataTable['output_type'] = 'display_data';\n",
              "          await google.colab.output.renderOutput(dataTable, element);\n",
              "          const docLink = document.createElement('div');\n",
              "          docLink.innerHTML = docLinkHtml;\n",
              "          element.appendChild(docLink);\n",
              "        }\n",
              "      </script>\n",
              "    </div>\n",
              "  </div>\n",
              "  "
            ]
          },
          "metadata": {},
          "execution_count": 8
        }
      ]
    },
    {
      "cell_type": "code",
      "source": [
        "# quartos\n",
        "\n",
        "quartos = imoveis_df[\"Quartos\"]\n",
        "\n",
        "media_quartos = quartos.mean()\n",
        "print(\"Média dos quartos: \", media_quartos)\n",
        "\n",
        "mediana_quartos = quartos.median()\n",
        "print(\"Mediana dos quartos: \", mediana_quartos)\n",
        "\n",
        "desvio_quartos = quartos.std()\n",
        "print(\"Desvião padrão dos quartos: \", desvio_quartos)"
      ],
      "metadata": {
        "colab": {
          "base_uri": "https://localhost:8080/"
        },
        "id": "-qKXr6wqHZLc",
        "outputId": "124bccb6-700e-4b29-f051-3fd318ae4117"
      },
      "execution_count": null,
      "outputs": [
        {
          "output_type": "stream",
          "name": "stdout",
          "text": [
            "Média dos quartos:  1.7713895631067962\n",
            "Mediana dos quartos:  2.0\n",
            "Desvião padrão dos quartos:  1.7178687849639511\n"
          ]
        }
      ]
    },
    {
      "cell_type": "code",
      "source": [
        "# vagas\n",
        "\n",
        "vagas = imoveis_df[\"Vagas\"]\n",
        "\n",
        "media_vagas = vagas.mean()\n",
        "print(\"Média dos vagas: \", media_vagas)\n",
        "\n",
        "mediana_vagas = vagas.median()\n",
        "print(\"Mediana dos vagas: \", mediana_vagas)\n",
        "\n",
        "desvio_vagas = vagas.std()\n",
        "print(\"Desvião padrão dos vagas: \", desvio_vagas)"
      ],
      "metadata": {
        "colab": {
          "base_uri": "https://localhost:8080/"
        },
        "id": "HyHzwjNVJl7Q",
        "outputId": "2413ad3d-280d-44b9-f381-5b34cb157aed"
      },
      "execution_count": null,
      "outputs": [
        {
          "output_type": "stream",
          "name": "stdout",
          "text": [
            "Média dos vagas:  1.7490594660194174\n",
            "Mediana dos vagas:  1.0\n",
            "Desvião padrão dos vagas:  20.38040150541978\n"
          ]
        }
      ]
    },
    {
      "cell_type": "code",
      "source": [
        "# suítes\n",
        "\n",
        "suites = imoveis_df[\"Suites\"]\n",
        "\n",
        "media_suites = suites.mean()\n",
        "print(\"Média dos suítes: \", media_suites)\n",
        "\n",
        "mediana_suites = suites.median()\n",
        "print(\"Mediana dos suítes: \", mediana_vagas)\n",
        "\n",
        "desvio_suites = suites.std()\n",
        "print(\"Desvião padrão dos suítes: \", desvio_suites)"
      ],
      "metadata": {
        "colab": {
          "base_uri": "https://localhost:8080/"
        },
        "id": "ytS0bSycKD6G",
        "outputId": "bedf2546-f5e9-49d8-e518-75682b59ac9a"
      },
      "execution_count": null,
      "outputs": [
        {
          "output_type": "stream",
          "name": "stdout",
          "text": [
            "Média dos suítes:  0.6657766990291262\n",
            "Mediana dos suítes:  1.0\n",
            "Desvião padrão dos suítes:  1.1765247843440272\n"
          ]
        }
      ]
    },
    {
      "cell_type": "code",
      "source": [
        "# área\n",
        "\n",
        "area = imoveis_df[\"Area\"]\n",
        "\n",
        "media_area = area.mean()\n",
        "print(\"Média da área: \", media_area)\n",
        "\n",
        "mediana_area = area.median()\n",
        "print(\"Mediana da área: \", mediana_area)\n",
        "\n",
        "desvio_area = area.std()\n",
        "print(\"Desvião padrão da área: \", desvio_area)"
      ],
      "metadata": {
        "colab": {
          "base_uri": "https://localhost:8080/"
        },
        "id": "iHPlrJpWKbpK",
        "outputId": "fc2b20f6-b1ae-43b2-ca42-4a57a4624901"
      },
      "execution_count": null,
      "outputs": [
        {
          "output_type": "stream",
          "name": "stdout",
          "text": [
            "Média da área:  231.9015473300971\n",
            "Mediana da área:  87.0\n",
            "Desvião padrão da área:  1135.2541521229282\n"
          ]
        }
      ]
    },
    {
      "cell_type": "code",
      "source": [
        "# valor\n",
        "\n",
        "valor = imoveis_df[\"Valor\"]\n",
        "\n",
        "media_valor = valor.mean()\n",
        "print(\"Média do valor: \", media_valor)\n",
        "\n",
        "mediana_valor = valor.median()\n",
        "print(\"Mediana do valor: \", mediana_valor)\n",
        "\n",
        "desvio_valor = valor.std()\n",
        "print(\"Desvião padrão do valor: \", desvio_valor)"
      ],
      "metadata": {
        "colab": {
          "base_uri": "https://localhost:8080/"
        },
        "id": "5cK7YdR-LAOR",
        "outputId": "05b6bf57-1244-45a9-b585-7fc01622a35d"
      },
      "execution_count": null,
      "outputs": [
        {
          "output_type": "stream",
          "name": "stdout",
          "text": [
            "Média do valor:  12952.659715265761\n",
            "Mediana do valor:  2800.0\n",
            "Desvião padrão do valor:  667521.9694189356\n"
          ]
        }
      ]
    },
    {
      "cell_type": "code",
      "source": [
        "# condominio\n",
        "\n",
        "condominio = imoveis_df[\"Condominio\"]\n",
        "\n",
        "media_condominio = condominio.mean()\n",
        "print(\"Média do condomínio: \", media_condominio)\n",
        "\n",
        "mediana_condominio = condominio.median()\n",
        "print(\"Mediana do condomínio: \", mediana_condominio)\n",
        "\n",
        "desvio_condominio = condominio.std()\n",
        "print(\"Desvião padrão do condomínio: \", desvio_condominio)"
      ],
      "metadata": {
        "colab": {
          "base_uri": "https://localhost:8080/"
        },
        "id": "A5vM5bOyM2qA",
        "outputId": "cb460b9b-3dc9-4ba8-c4d8-b3b00bdd36a4"
      },
      "execution_count": null,
      "outputs": [
        {
          "output_type": "stream",
          "name": "stdout",
          "text": [
            "Média do condomínio:  2388.0624242214294\n",
            "Mediana do condomínio:  990.0\n",
            "Desvião padrão do condomínio:  39184.959614545216\n"
          ]
        }
      ]
    },
    {
      "cell_type": "code",
      "source": [
        "# IPTU\n",
        "\n",
        "IPTU = imoveis_df[\"IPTU\"]\n",
        "\n",
        "media_IPTU = IPTU.mean()\n",
        "print(\"Média do IPTU: \", media_IPTU)\n",
        "\n",
        "mediana_IPTU = IPTU.median()\n",
        "print(\"Mediana do IPTU: \", mediana_IPTU)\n",
        "\n",
        "desvio_IPTU = IPTU.std()\n",
        "print(\"Desvião padrão do IPTU: \", desvio_IPTU)"
      ],
      "metadata": {
        "colab": {
          "base_uri": "https://localhost:8080/"
        },
        "id": "bt4gToW_NZII",
        "outputId": "4163ac55-83e4-4adf-82b1-bb0bbbfbabf3"
      },
      "execution_count": null,
      "outputs": [
        {
          "output_type": "stream",
          "name": "stdout",
          "text": [
            "Média do IPTU:  2364.4095850019803\n",
            "Mediana do IPTU:  250.0\n",
            "Desvião padrão do IPTU:  179564.06289745859\n"
          ]
        }
      ]
    },
    {
      "cell_type": "markdown",
      "source": [
        "Essas variáveis descrevem bem o comportamento dos dados?\n",
        "Acredito que sim"
      ],
      "metadata": {
        "id": "cmIdb0z1NrTF"
      }
    },
    {
      "cell_type": "markdown",
      "source": [
        "Existe variável categórica no dataset? Sim, as variáveis de Tipo de casa, Bairro, Vagas, Quartos, etc., são todas categóricas.\n",
        "\n"
      ],
      "metadata": {
        "id": "j16oqHVgPMpn"
      }
    },
    {
      "cell_type": "code",
      "source": [
        "plt.figure(figsize=(20, 10))\n",
        "\n",
        "sns.boxplot(x=imoveis_df['Quartos'], y=imoveis_df['Valor'])\n",
        "plt.show()"
      ],
      "metadata": {
        "colab": {
          "base_uri": "https://localhost:8080/",
          "height": 547
        },
        "id": "JGE4KFATQWFt",
        "outputId": "64657928-9892-4e2c-def8-e3e26c5a1d80"
      },
      "execution_count": null,
      "outputs": [
        {
          "output_type": "display_data",
          "data": {
            "text/plain": [
              "<Figure size 1440x720 with 1 Axes>"
            ],
            "image/png": "[encoded data removed]"
          },
          "metadata": {
            "needs_background": "light"
          }
        }
      ]
    },
    {
      "cell_type": "code",
      "source": [
        "plt.figure(figsize=(20, 6))\n",
        "bairros = imoveis_df['Bairro']\n",
        "\n",
        "plt.hist(bairros, bins=7, histtype='bar')\n",
        "plt.show()"
      ],
      "metadata": {
        "colab": {
          "base_uri": "https://localhost:8080/",
          "height": 335
        },
        "id": "wpN62rpTTw2F",
        "outputId": "3733d638-7c8f-436d-b73d-a3bd7d5da667"
      },
      "execution_count": null,
      "outputs": [
        {
          "output_type": "display_data",
          "data": {
            "text/plain": [
              "<Figure size 1440x432 with 1 Axes>"
            ],
            "image/png": "[encoded data removed]"
          },
          "metadata": {
            "needs_background": "light"
          }
        }
      ]
    },
    {
      "cell_type": "code",
      "source": [
        "plt.figure(figsize=(30, 6))\n",
        "\n",
        "plt.scatter(imoveis_df['Bairro'], imoveis_df['Valor'], alpha=0.5)\n",
        "plt.xlabel('Bairros')\n",
        "plt.show()"
      ],
      "metadata": {
        "colab": {
          "base_uri": "https://localhost:8080/",
          "height": 296
        },
        "id": "glGp3XOxUmb0",
        "outputId": "d866e4a6-7338-450d-b30e-9e34a2dbede2"
      },
      "execution_count": null,
      "outputs": [
        {
          "output_type": "display_data",
          "data": {
            "text/plain": [
              "<Figure size 2160x432 with 1 Axes>"
            ],
            "image/png": "[encoded data removed]"
          },
          "metadata": {
            "needs_background": "light"
          }
        }
      ]
    },
    {
      "cell_type": "code",
      "source": [
        "# valor do imóvel mais caro \n",
        "\n",
        "valor.max()"
      ],
      "metadata": {
        "colab": {
          "base_uri": "https://localhost:8080/"
        },
        "id": "wpUne-ceVg_w",
        "outputId": "4b3a296e-3dc2-40ab-f96e-307bb2bcb25b"
      },
      "execution_count": null,
      "outputs": [
        {
          "output_type": "execute_result",
          "data": {
            "text/plain": [
              "120000000.0"
            ]
          },
          "metadata": {},
          "execution_count": 68
        }
      ]
    },
    {
      "cell_type": "code",
      "source": [
        "# valor do imóvel mais baratp\n",
        "\n",
        "valor.min()"
      ],
      "metadata": {
        "colab": {
          "base_uri": "https://localhost:8080/"
        },
        "id": "4MUFDQ3KV-WF",
        "outputId": "9fcbb245-04f0-4020-a103-3d19b2b1831d"
      },
      "execution_count": null,
      "outputs": [
        {
          "output_type": "execute_result",
          "data": {
            "text/plain": [
              "75.0"
            ]
          },
          "metadata": {},
          "execution_count": 69
        }
      ]
    },
    {
      "cell_type": "code",
      "source": [
        "# selecione apenas os imóveis do tipo \"apartamento\"\n",
        "\n",
        "imoveis_df['Tipo'] = imoveis_df['Tipo'].map({'Apartamento': 'Apartamento'})\n",
        "\n",
        "imoveis_df['Tipo']"
      ],
      "metadata": {
        "colab": {
          "base_uri": "https://localhost:8080/"
        },
        "id": "t9IpyGqfWJtm",
        "outputId": "1ad0a585-9655-4b9b-92eb-1665abbeeae9"
      },
      "execution_count": null,
      "outputs": [
        {
          "output_type": "execute_result",
          "data": {
            "text/plain": [
              "0                NaN\n",
              "1                NaN\n",
              "2                NaN\n",
              "3        Apartamento\n",
              "4        Apartamento\n",
              "            ...     \n",
              "32955            NaN\n",
              "32956    Apartamento\n",
              "32957    Apartamento\n",
              "32958    Apartamento\n",
              "32959            NaN\n",
              "Name: Tipo, Length: 32960, dtype: object"
            ]
          },
          "metadata": {},
          "execution_count": 74
        }
      ]
    },
    {
      "cell_type": "code",
      "source": [
        "# selecione imóveis que são apartamento OU casa\n",
        "\n",
        "imoveis_df['Tipo'] = imoveis_df['Tipo'].map({'Apartamento': 'Apartamento', 'Casa': 'Casa'})\n",
        "\n",
        "imoveis_df['Tipo']"
      ],
      "metadata": {
        "colab": {
          "base_uri": "https://localhost:8080/"
        },
        "id": "t64VSkBjXv5b",
        "outputId": "5a0b4c34-b5cf-42a9-82bb-c57368f793de"
      },
      "execution_count": null,
      "outputs": [
        {
          "output_type": "execute_result",
          "data": {
            "text/plain": [
              "0                NaN\n",
              "1                NaN\n",
              "2                NaN\n",
              "3        Apartamento\n",
              "4        Apartamento\n",
              "            ...     \n",
              "32955            NaN\n",
              "32956    Apartamento\n",
              "32957    Apartamento\n",
              "32958    Apartamento\n",
              "32959            NaN\n",
              "Name: Tipo, Length: 32960, dtype: object"
            ]
          },
          "metadata": {},
          "execution_count": 75
        }
      ]
    },
    {
      "cell_type": "code",
      "source": [
        "# selecione imóveis com área entre 60 e 100 m2\n",
        "\n",
        "imoveis_df['Area'] = imoveis_df['Area'].map({'60': '60', '100': '100'})\n",
        "\n",
        "imoveis_df['Area']"
      ],
      "metadata": {
        "colab": {
          "base_uri": "https://localhost:8080/"
        },
        "id": "HEx4kvuOYPiZ",
        "outputId": "c256dcd2-7cde-4858-da5b-5fea392a4286"
      },
      "execution_count": null,
      "outputs": [
        {
          "output_type": "execute_result",
          "data": {
            "text/plain": [
              "0        NaN\n",
              "1        NaN\n",
              "2        NaN\n",
              "3        NaN\n",
              "4        NaN\n",
              "        ... \n",
              "32955    NaN\n",
              "32956    NaN\n",
              "32957    NaN\n",
              "32958    NaN\n",
              "32959    NaN\n",
              "Name: Area, Length: 32960, dtype: object"
            ]
          },
          "metadata": {},
          "execution_count": 76
        }
      ]
    },
    {
      "cell_type": "code",
      "source": [
        "# existe correlação entre condominio e aluguel?\n",
        "\n",
        "plt.hist(imoveis_df['Condominio'], alpha=0.7, color='red')\n",
        "plt.hist(imoveis_df['Valor'], alpha=0.7, color='blue')\n",
        "plt.show()\n"
      ],
      "metadata": {
        "colab": {
          "base_uri": "https://localhost:8080/",
          "height": 278
        },
        "id": "U_M_MVQnY0Gv",
        "outputId": "ba38b425-1bb0-4959-eee1-a2c96a0197b1"
      },
      "execution_count": null,
      "outputs": [
        {
          "output_type": "display_data",
          "data": {
            "text/plain": [
              "<Figure size 432x288 with 1 Axes>"
            ],
            "image/png": "[encoded data removed]"
          },
          "metadata": {
            "needs_background": "light"
          }
        }
      ]
    },
    {
      "cell_type": "code",
      "source": [
        "# existe correlação entre aluguel e IPTU??\n",
        "\n",
        "plt.hist(imoveis_df['IPTU'], alpha=0.7, color='red')\n",
        "plt.hist(imoveis_df['Valor'], alpha=0.7, color='blue')\n",
        "plt.show()"
      ],
      "metadata": {
        "colab": {
          "base_uri": "https://localhost:8080/",
          "height": 278
        },
        "id": "sR6Gfp0KZRtS",
        "outputId": "8d2cad07-170c-4288-8e9c-6764bbf64cb0"
      },
      "execution_count": null,
      "outputs": [
        {
          "output_type": "display_data",
          "data": {
            "text/plain": [
              "<Figure size 432x288 with 1 Axes>"
            ],
            "image/png": "[encoded data removed]"
          },
          "metadata": {
            "needs_background": "light"
          }
        }
      ]
    },
    {
      "cell_type": "markdown",
      "source": [
        "Existem dados faltantes? Sim, quantidade geral de banheiros além das suítes e relação de casas ocupadas"
      ],
      "metadata": {
        "id": "0ZdQfboxZduL"
      }
    },
    {
      "cell_type": "markdown",
      "source": [
        "Os dados que tem nessa base são suficientes para uma análise preditiva? \n",
        "Acredito que possa prever algumas coisas como quais regiões estão com excesso de lugares para alugar e em quais está faltando, além de quais regiões possuem mais condições financeiras devido a um número maior de cômodos, especialmente suítes e vagas de garagem."
      ],
      "metadata": {
        "id": "R3d046ioZqJy"
      }
    }
  ]
}